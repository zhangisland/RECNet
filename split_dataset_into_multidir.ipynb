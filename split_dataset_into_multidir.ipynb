{
 "cells": [
  {
   "cell_type": "code",
   "execution_count": 3,
   "metadata": {},
   "outputs": [],
   "source": [
    "import os\n",
    "import os.path as osp\n",
    "import shutil\n",
    "from glob import glob"
   ]
  },
  {
   "cell_type": "code",
   "execution_count": null,
   "metadata": {},
   "outputs": [],
   "source": [
    "img = '/root/workspace/RECNet/datasets/exposure_related/MSEC/training/INPUT_IMAGES/a0001-jmac_DSC1459_N1.5.JPG'\n",
    "osp.splitext(osp.basename(img))[0].split('_')[-1]"
   ]
  },
  {
   "cell_type": "code",
   "execution_count": null,
   "metadata": {},
   "outputs": [],
   "source": [
    "msec_root = osp.join('datasets', 'exposure_related', 'MSEC')\n",
    "exp_dict = {'N1.5': 'Exp1', 'N1': 'Exp2', '0': 'Exp3', 'P1': 'Exp4', 'P1.5': 'Exp5'}\n",
    "for set_level in os.listdir(msec_root):\n",
    "    set_level_path = osp.join(msec_root, set_level)  # training/validation/testing\n",
    "    \n",
    "    if osp.basename(set_level_path) not in ['training', 'validation']:\n",
    "        continue\n",
    "    if not osp.isdir(set_level_path):\n",
    "        continue\n",
    "    gts = sorted(glob(osp.join(set_level_path, 'GT_IMAGES', '*.jpg')))\n",
    "    for idx, gt in enumerate(gts):\n",
    "        # exp1-exp5\n",
    "        inputs = sorted(glob(osp.join(set_level_path, 'INPUT_IMAGES', f'{osp.splitext(osp.basename(gt))[0]}_*.JPG')))\n",
    "        \n",
    "        # save to multidir\n",
    "        for input_img in inputs:\n",
    "            input_exp_level = osp.splitext(osp.basename(input_img))[0].split('_')[-1]\n",
    "            exp_level = exp_dict[input_exp_level]\n",
    "            multidir_input_path = osp.join('datasets', 'exposure_related', 'MSEC', 'multidir', osp.basename(set_level_path), 'INPUT', exp_level, osp.basename(input_img))\n",
    "            if not osp.exists(osp.basename(multidir_input_path)):\n",
    "                os.makedirs(osp.dirname(multidir_input_path), exist_ok=True)\n",
    "            shutil.copy(input_img, multidir_input_path)\n",
    "        print(f'{idx+1}/{len(gts)}: {osp.basename(gt)}')\n",
    "\n",
    "            "
   ]
  },
  {
   "cell_type": "code",
   "execution_count": null,
   "metadata": {},
   "outputs": [],
   "source": [
    "msec_root = osp.join('datasets', 'exposure_related', 'MSEC')\n",
    "exp_dict = {'N1.5': 'Exp1', 'N1': 'Exp2', '0': 'Exp3', 'P1': 'Exp4', 'P1.5': 'Exp5'}\n",
    "testing_imgs = sorted(glob(osp.join(msec_root, 'testing', 'INPUT_IMAGES', '*.JPG')))\n",
    "for idx, img in enumerate(testing_imgs):\n",
    "    input_exp_level = osp.splitext(osp.basename(img))[0].split('_')[-1]\n",
    "    exp_level = exp_dict[input_exp_level]\n",
    "    multidir_input_path = osp.join('datasets', 'exposure_related', 'MSEC', 'multidir', 'testing', 'INPUT', exp_level, osp.basename(img))\n",
    "    if not osp.exists(osp.basename(multidir_input_path)):\n",
    "        os.makedirs(osp.dirname(multidir_input_path), exist_ok=True)\n",
    "    shutil.copy(input_img, multidir_input_path)\n",
    "    print(f'{idx+1}/{len(testing_imgs)}: {osp.basename(img)}')\n"
   ]
  }
 ],
 "metadata": {
  "kernelspec": {
   "display_name": "Python 3",
   "language": "python",
   "name": "python3"
  },
  "language_info": {
   "codemirror_mode": {
    "name": "ipython",
    "version": 3
   },
   "file_extension": ".py",
   "mimetype": "text/x-python",
   "name": "python",
   "nbconvert_exporter": "python",
   "pygments_lexer": "ipython3",
   "version": "3.8.16"
  }
 },
 "nbformat": 4,
 "nbformat_minor": 2
}
